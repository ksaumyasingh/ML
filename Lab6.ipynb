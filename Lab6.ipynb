{
 "cells": [
  {
   "cell_type": "code",
   "execution_count": null,
   "metadata": {
    "execution": {
     "iopub.execute_input": "2022-03-29T13:07:42.811692Z",
     "iopub.status.busy": "2022-03-29T13:07:42.811131Z",
     "iopub.status.idle": "2022-03-29T13:07:42.822453Z",
     "shell.execute_reply": "2022-03-29T13:07:42.821480Z",
     "shell.execute_reply.started": "2022-03-29T13:07:42.811643Z"
    },
    "id": "JbkrgzxCGUfP"
   },
   "outputs": [],
   "source": [
    "f = open(\"Hello.txt\",\"w\")  #Open a file in a write mode\n",
    "f.write(\"This is my first line of the file\\n\")\n",
    "f.write(\"This is the second line of the file\")"
   ]
  },
  {
   "cell_type": "code",
   "execution_count": null,
   "metadata": {
    "execution": {
     "iopub.execute_input": "2022-03-29T13:07:42.824924Z",
     "iopub.status.busy": "2022-03-29T13:07:42.824405Z",
     "iopub.status.idle": "2022-03-29T13:07:42.829401Z",
     "shell.execute_reply": "2022-03-29T13:07:42.828493Z",
     "shell.execute_reply.started": "2022-03-29T13:07:42.824882Z"
    },
    "id": "xoNxb_5WGUfR"
   },
   "outputs": [],
   "source": [
    "f.close()"
   ]
  },
  {
   "cell_type": "code",
   "execution_count": null,
   "metadata": {
    "execution": {
     "iopub.execute_input": "2022-03-29T13:07:42.831230Z",
     "iopub.status.busy": "2022-03-29T13:07:42.830753Z",
     "iopub.status.idle": "2022-03-29T13:07:42.839484Z",
     "shell.execute_reply": "2022-03-29T13:07:42.838627Z",
     "shell.execute_reply.started": "2022-03-29T13:07:42.831191Z"
    },
    "id": "W7Dw8mBHGUfR"
   },
   "outputs": [],
   "source": [
    "f = open(\"Hello.txt\",\"r\")  #Open a file in a read mode\n",
    "for line in f:\n",
    "    print(line)\n",
    "f.close()"
   ]
  },
  {
   "cell_type": "code",
   "execution_count": null,
   "metadata": {
    "execution": {
     "iopub.execute_input": "2022-03-29T13:07:42.842298Z",
     "iopub.status.busy": "2022-03-29T13:07:42.841795Z",
     "iopub.status.idle": "2022-03-29T13:07:42.856805Z",
     "shell.execute_reply": "2022-03-29T13:07:42.856210Z",
     "shell.execute_reply.started": "2022-03-29T13:07:42.842260Z"
    },
    "id": "8sL7RkCcGUfS"
   },
   "outputs": [],
   "source": [
    "f = open(\"Hello.txt\",\"r\")\n",
    "fo = f.read()    #Reads the entire file in one go\n",
    "for i in fo:\n",
    "    print(i)\n",
    "f.close()"
   ]
  },
  {
   "cell_type": "code",
   "execution_count": null,
   "metadata": {
    "execution": {
     "iopub.execute_input": "2022-03-29T13:07:42.857977Z",
     "iopub.status.busy": "2022-03-29T13:07:42.857758Z",
     "iopub.status.idle": "2022-03-29T13:07:42.862902Z",
     "shell.execute_reply": "2022-03-29T13:07:42.862065Z",
     "shell.execute_reply.started": "2022-03-29T13:07:42.857950Z"
    },
    "id": "ig6FApv1GUfS"
   },
   "outputs": [],
   "source": [
    "f = open(\"Hello.txt\",\"r\")\n",
    "print(f.readline())    #Reads the one line at a time\n",
    "f.close()"
   ]
  },
  {
   "cell_type": "code",
   "execution_count": null,
   "metadata": {
    "execution": {
     "iopub.execute_input": "2022-03-29T13:07:42.864717Z",
     "iopub.status.busy": "2022-03-29T13:07:42.864331Z",
     "iopub.status.idle": "2022-03-29T13:07:42.878648Z",
     "shell.execute_reply": "2022-03-29T13:07:42.877822Z",
     "shell.execute_reply.started": "2022-03-29T13:07:42.864681Z"
    },
    "id": "qn6YrYKpGUfS"
   },
   "outputs": [],
   "source": [
    "f = open(\"Hello.txt\",\"r\")\n",
    "for i in f.read():\n",
    "    print(i)\n",
    "f.close()"
   ]
  },
  {
   "cell_type": "code",
   "execution_count": null,
   "metadata": {
    "execution": {
     "iopub.execute_input": "2022-03-29T13:07:42.880137Z",
     "iopub.status.busy": "2022-03-29T13:07:42.879685Z",
     "iopub.status.idle": "2022-03-29T13:07:42.884188Z",
     "shell.execute_reply": "2022-03-29T13:07:42.883478Z",
     "shell.execute_reply.started": "2022-03-29T13:07:42.880108Z"
    },
    "id": "rLXRiIvkGUfS"
   },
   "outputs": [],
   "source": [
    "f = open(\"Hello.txt\",\"a\")   #Open a file in a append mode\n",
    "f.write(\"This is a text written by append\")\n",
    "f.close()"
   ]
  },
  {
   "cell_type": "code",
   "execution_count": null,
   "metadata": {
    "execution": {
     "iopub.execute_input": "2022-03-29T13:07:42.885077Z",
     "iopub.status.busy": "2022-03-29T13:07:42.884875Z",
     "iopub.status.idle": "2022-03-29T13:07:42.893111Z",
     "shell.execute_reply": "2022-03-29T13:07:42.892406Z",
     "shell.execute_reply.started": "2022-03-29T13:07:42.885053Z"
    },
    "id": "9FPAKNYVGUfT"
   },
   "outputs": [],
   "source": [
    "f = open(\"Hello.txt\",\"a\")\n",
    "f.write(\"\\nThis is a text written by append\\n\")\n",
    "f.close()"
   ]
  },
  {
   "cell_type": "code",
   "execution_count": null,
   "metadata": {
    "execution": {
     "iopub.execute_input": "2022-03-29T13:07:42.895086Z",
     "iopub.status.busy": "2022-03-29T13:07:42.894813Z",
     "iopub.status.idle": "2022-03-29T13:07:42.905538Z",
     "shell.execute_reply": "2022-03-29T13:07:42.904813Z",
     "shell.execute_reply.started": "2022-03-29T13:07:42.895050Z"
    },
    "id": "C_deMM1QGUfT"
   },
   "outputs": [],
   "source": [
    "f = open(\"Hello.txt\",\"r+\")   #Open a file in a read/write mode\n",
    "print(f.readline())\n",
    "f.write(\"\\nThis is a text written by read+write\\n\")\n",
    "f.close()"
   ]
  },
  {
   "cell_type": "code",
   "execution_count": null,
   "metadata": {
    "execution": {
     "iopub.execute_input": "2022-03-29T13:29:14.846875Z",
     "iopub.status.busy": "2022-03-29T13:29:14.846405Z",
     "iopub.status.idle": "2022-03-29T13:29:14.864300Z",
     "shell.execute_reply": "2022-03-29T13:29:14.862876Z",
     "shell.execute_reply.started": "2022-03-29T13:29:14.846841Z"
    },
    "id": "294KT3YOGUfT"
   },
   "outputs": [],
   "source": [
    "f1=open(\"File12.txt\",\"x\")\n",
    "f1=open(\"File12.txt\",\"w\")\n",
    "f1.write(\"This is a file\")\n",
    "f1.close()"
   ]
  },
  {
   "cell_type": "code",
   "execution_count": null,
   "metadata": {
    "execution": {
     "iopub.execute_input": "2022-03-29T13:29:45.033640Z",
     "iopub.status.busy": "2022-03-29T13:29:45.032826Z",
     "iopub.status.idle": "2022-03-29T13:29:45.039018Z",
     "shell.execute_reply": "2022-03-29T13:29:45.038395Z",
     "shell.execute_reply.started": "2022-03-29T13:29:45.033601Z"
    },
    "id": "J3HpOIHTGUfU"
   },
   "outputs": [],
   "source": [
    "f = open(\"File12.txt\",\"r\")  #Open a file in a read mode\n",
    "for line in f:\n",
    "    print(line)\n",
    "f.close()"
   ]
  },
  {
   "cell_type": "markdown",
   "metadata": {
    "id": "rJ7p_zZjGUfU"
   },
   "source": [
    "# Lab 6\n",
    "1. WAP to read a file and print the number of characters, words and lines it has\n",
    "2. WAP to copy contents of one file into another file\n",
    "3. WAP to read a file and count the number of vowels it has\n",
    "4. WAP to read a file and count the number of articles it has\n",
    "5. WAP to read a file reverse the contents of file (last line of the file should become the first line of the file)"
   ]
  },
  {
   "cell_type": "code",
   "execution_count": null,
   "metadata": {
    "execution": {
     "iopub.execute_input": "2022-03-29T13:29:55.380868Z",
     "iopub.status.busy": "2022-03-29T13:29:55.380246Z",
     "iopub.status.idle": "2022-03-29T13:29:55.389179Z",
     "shell.execute_reply": "2022-03-29T13:29:55.388386Z",
     "shell.execute_reply.started": "2022-03-29T13:29:55.380808Z"
    },
    "id": "SGW5_rJZGUfV"
   },
   "outputs": [],
   "source": [
    "#1.WAP to read a file and print the number of characters, words and lines it has\n",
    "lines=0\n",
    "words=0\n",
    "characters=0\n",
    "f = open(\"File12.txt\",\"r\")\n",
    "for line in f:\n",
    "    word = line.split()\n",
    "    lines += 1\n",
    "    words += len(word)\n",
    "    characters += len(line)\n",
    "\n",
    "print(\"Number of lines:\", lines, \"Number of words:\", words, \"Number of characters:\", characters)\n",
    "            "
   ]
  },
  {
   "cell_type": "code",
   "execution_count": null,
   "metadata": {
    "execution": {
     "iopub.execute_input": "2022-03-29T13:37:30.794322Z",
     "iopub.status.busy": "2022-03-29T13:37:30.794002Z",
     "iopub.status.idle": "2022-03-29T13:37:30.801944Z",
     "shell.execute_reply": "2022-03-29T13:37:30.801129Z",
     "shell.execute_reply.started": "2022-03-29T13:37:30.794280Z"
    },
    "id": "8sSLfrPgGUfW"
   },
   "outputs": [],
   "source": [
    "#2.WAP to copy contents of one file into another file\n",
    "f2=open(\"File12.txt\",\"r\")\n",
    "f3=open(\"File13.txt\",\"w\")\n",
    "for line in f2:\n",
    "    f3.write(line)\n",
    "f2.close()\n",
    "f3.close()\n",
    "f4= open(\"File13.txt\",\"r\")  #Open a file in a read mode\n",
    "for line in f4:\n",
    "    print(line)\n",
    "f4.close()"
   ]
  },
  {
   "cell_type": "code",
   "execution_count": 1,
   "metadata": {
    "execution": {
     "iopub.execute_input": "2022-03-29T13:42:43.263084Z",
     "iopub.status.busy": "2022-03-29T13:42:43.262006Z",
     "iopub.status.idle": "2022-03-29T13:42:43.272684Z",
     "shell.execute_reply": "2022-03-29T13:42:43.271939Z",
     "shell.execute_reply.started": "2022-03-29T13:42:43.263039Z"
    },
    "id": "0-XVDYudGUfX"
   },
   "outputs": [
    {
     "ename": "FileNotFoundError",
     "evalue": "[Errno 2] No such file or directory: 'File12.txt'",
     "output_type": "error",
     "traceback": [
      "\u001b[1;31m---------------------------------------------------------------------------\u001b[0m",
      "\u001b[1;31mFileNotFoundError\u001b[0m                         Traceback (most recent call last)",
      "\u001b[1;32m<ipython-input-1-bb05472f2c9b>\u001b[0m in \u001b[0;36m<module>\u001b[1;34m\u001b[0m\n\u001b[0;32m      1\u001b[0m \u001b[1;31m#3.WAP to read a file and count the number of vowels it has\u001b[0m\u001b[1;33m\u001b[0m\u001b[1;33m\u001b[0m\u001b[1;33m\u001b[0m\u001b[0m\n\u001b[1;32m----> 2\u001b[1;33m \u001b[0mff\u001b[0m\u001b[1;33m=\u001b[0m\u001b[0mopen\u001b[0m\u001b[1;33m(\u001b[0m\u001b[1;34m\"File12.txt\"\u001b[0m\u001b[1;33m,\u001b[0m\u001b[1;34m\"r\"\u001b[0m\u001b[1;33m)\u001b[0m\u001b[1;33m\u001b[0m\u001b[1;33m\u001b[0m\u001b[0m\n\u001b[0m\u001b[0;32m      3\u001b[0m \u001b[0mstr\u001b[0m\u001b[1;33m=\u001b[0m\u001b[0mff\u001b[0m\u001b[1;33m.\u001b[0m\u001b[0mread\u001b[0m\u001b[1;33m(\u001b[0m\u001b[1;33m)\u001b[0m\u001b[1;33m\u001b[0m\u001b[1;33m\u001b[0m\u001b[0m\n\u001b[0;32m      4\u001b[0m \u001b[0mvowel_count\u001b[0m \u001b[1;33m=\u001b[0m  \u001b[1;36m0\u001b[0m\u001b[1;33m\u001b[0m\u001b[1;33m\u001b[0m\u001b[0m\n\u001b[0;32m      5\u001b[0m \u001b[1;32mfor\u001b[0m \u001b[0mi\u001b[0m \u001b[1;32min\u001b[0m \u001b[0mstr\u001b[0m\u001b[1;33m:\u001b[0m\u001b[1;33m\u001b[0m\u001b[1;33m\u001b[0m\u001b[0m\n",
      "\u001b[1;31mFileNotFoundError\u001b[0m: [Errno 2] No such file or directory: 'File12.txt'"
     ]
    }
   ],
   "source": [
    "#3.WAP to read a file and count the number of vowels it has\n",
    "ff=open(\"File12.txt\",\"r\")\n",
    "str=ff.read()\n",
    "vowel_count =  0\n",
    "for i in str:\n",
    "    if( i=='A' or i=='a' or i=='E' or i=='e' or i=='I' or i=='i' or i=='O' or i=='o'or i=='U' or i=='u'):\n",
    "            vowel_count +=1\n",
    "print('The Number of Vowels in text file :', vowel_count)\n",
    "ff.close()"
   ]
  },
  {
   "cell_type": "code",
   "execution_count": null,
   "metadata": {},
   "outputs": [],
   "source": [
    "#4.WAP to read a file and count the number of articles it has\n",
    "f = open(\"File12.txt\",\"r\")\n",
    "str=f.read()\n",
    "str=str.lower()\n",
    "lstr = str.split()\n",
    "n=len(lstr)\n",
    "\n",
    "count=0\n",
    "for i in range(0,n):\n",
    "    if(lstr[i] in('the','an','a')):\n",
    "        count+=1\n",
    "        \n",
    "print(\"No. of atricles in a sentence : \",count)\n",
    "ff.close()"
   ]
  },
  {
   "cell_type": "code",
   "execution_count": null,
   "metadata": {},
   "outputs": [],
   "source": [
    "#5.WAP to read a file reverse the contents of file \n",
    "ff = open(\"newfile.txt\", \"w\") \n",
    "f = open(\"oldfile.txt\",\"r\")\n",
    "txt = f.read() \n",
    "reversedContent = txt[::-1] \n",
    "ff.write(reversedContent) \n",
    "ff.close()\n",
    "f.close()"
   ]
  }
 ],
 "metadata": {
  "colab": {
   "collapsed_sections": [],
   "name": "Lab6.ipynb",
   "provenance": []
  },
  "kernelspec": {
   "display_name": "Python 3",
   "language": "python",
   "name": "python3"
  },
  "language_info": {
   "codemirror_mode": {
    "name": "ipython",
    "version": 3
   },
   "file_extension": ".py",
   "mimetype": "text/x-python",
   "name": "python",
   "nbconvert_exporter": "python",
   "pygments_lexer": "ipython3",
   "version": "3.8.8"
  }
 },
 "nbformat": 4,
 "nbformat_minor": 1
}
